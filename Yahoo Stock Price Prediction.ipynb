{
 "cells": [
  {
   "cell_type": "markdown",
   "metadata": {},
   "source": [
    "# Data Science Project Lifecycle - A Case Study"
   ]
  },
  {
   "cell_type": "markdown",
   "metadata": {},
   "source": [
    "\n",
    "## Step 1: Busines Understanding\n",
    "### Problem Statement: Prediction of Yahoo Stock Market\n",
    "### Data Set: Yahoo Stock Price\n",
    "\n",
    "### ہمیں مسئلہ یہ درپیش ہے کہ یاہو کے اثاثوں کی مستقبل قریب میں کیا قیمت ہو گی؟ اس مرحلے میں کچھ اضافی سوالوں پر بھی نظر ثانی کرنی پڑتی ہے تاکہ ایک بہتر اور مفید ڈیٹا سیٹ حاصل کیا جا سکے۔ مثلاً، وہ کون سے عناصر ہیں جو اثاثوں کی قیمتوں پر نظرانداز ہو سکتے ہیں؟ کیا قیمتوں کا انحصار مدِ مقابل کمپنیوں کی قدر گرنے سے تو نہیں؟ کیا خارجی پالیسی اثاثوں کی قدر پر اثر انداز ہوتی ہیں؟ کیا اثاثوں کی قیمت کے برھان کا سبب مہنگائی تو نہیں۔ وغیرہ وغیرہ\n",
    "### ان سوالوں کی بنیاد پر ہم درپیش مسئلے کو مختلف زاویوں سے دیکھتے ہیں اور تجزیہ کرنے کے لئے متعلقہ ڈیٹا سیٹس کو اکٹھا کرتے ہیں۔\n",
    "\n",
    "\n",
    "### ڈیٹا سائنس لائف سائیکل کے پورے پروسس کو سمجھنے کے لئے ہم اس کیس اسٹڈی کا مطالعہ و تجزیہ کر رہے ہیں۔ \n",
    " "
   ]
  },
  {
   "cell_type": "markdown",
   "metadata": {},
   "source": [
    "## Step 2: Data Exploration "
   ]
  },
  {
   "cell_type": "markdown",
   "metadata": {},
   "source": [
    "#### Import Libraries"
   ]
  },
  {
   "cell_type": "code",
   "execution_count": 1,
   "metadata": {},
   "outputs": [],
   "source": [
    "import pandas as pd \n",
    "from datetime import datetime\n",
    "import numpy as np \n",
    "from sklearn.linear_model import LinearRegression\n",
    "import matplotlib.pyplot as plt"
   ]
  },
  {
   "cell_type": "markdown",
   "metadata": {},
   "source": [
    "#### Read Dataset"
   ]
  },
  {
   "cell_type": "code",
   "execution_count": 2,
   "metadata": {},
   "outputs": [
    {
     "data": {
      "text/html": [
       "<div>\n",
       "<style scoped>\n",
       "    .dataframe tbody tr th:only-of-type {\n",
       "        vertical-align: middle;\n",
       "    }\n",
       "\n",
       "    .dataframe tbody tr th {\n",
       "        vertical-align: top;\n",
       "    }\n",
       "\n",
       "    .dataframe thead th {\n",
       "        text-align: right;\n",
       "    }\n",
       "</style>\n",
       "<table border=\"1\" class=\"dataframe\">\n",
       "  <thead>\n",
       "    <tr style=\"text-align: right;\">\n",
       "      <th></th>\n",
       "      <th>Date</th>\n",
       "      <th>Open</th>\n",
       "      <th>High</th>\n",
       "      <th>Low</th>\n",
       "      <th>Close</th>\n",
       "      <th>Adj Close</th>\n",
       "      <th>Volume</th>\n",
       "    </tr>\n",
       "  </thead>\n",
       "  <tbody>\n",
       "    <tr>\n",
       "      <th>0</th>\n",
       "      <td>2015-12-07</td>\n",
       "      <td>2090.419922</td>\n",
       "      <td>2090.419922</td>\n",
       "      <td>2066.780029</td>\n",
       "      <td>2077.070068</td>\n",
       "      <td>2077.070068</td>\n",
       "      <td>4043820000</td>\n",
       "    </tr>\n",
       "    <tr>\n",
       "      <th>1</th>\n",
       "      <td>2015-12-04</td>\n",
       "      <td>2051.239990</td>\n",
       "      <td>2093.840088</td>\n",
       "      <td>2051.239990</td>\n",
       "      <td>2091.689941</td>\n",
       "      <td>2091.689941</td>\n",
       "      <td>4214910000</td>\n",
       "    </tr>\n",
       "    <tr>\n",
       "      <th>2</th>\n",
       "      <td>2015-12-03</td>\n",
       "      <td>2080.709961</td>\n",
       "      <td>2085.000000</td>\n",
       "      <td>2042.349976</td>\n",
       "      <td>2049.620117</td>\n",
       "      <td>2049.620117</td>\n",
       "      <td>4306490000</td>\n",
       "    </tr>\n",
       "    <tr>\n",
       "      <th>3</th>\n",
       "      <td>2015-12-02</td>\n",
       "      <td>2101.709961</td>\n",
       "      <td>2104.270020</td>\n",
       "      <td>2077.110107</td>\n",
       "      <td>2079.510010</td>\n",
       "      <td>2079.510010</td>\n",
       "      <td>3950640000</td>\n",
       "    </tr>\n",
       "    <tr>\n",
       "      <th>4</th>\n",
       "      <td>2015-12-01</td>\n",
       "      <td>2082.929932</td>\n",
       "      <td>2103.370117</td>\n",
       "      <td>2082.929932</td>\n",
       "      <td>2102.629883</td>\n",
       "      <td>2102.629883</td>\n",
       "      <td>3712120000</td>\n",
       "    </tr>\n",
       "    <tr>\n",
       "      <th>5</th>\n",
       "      <td>2015-11-30</td>\n",
       "      <td>2090.949951</td>\n",
       "      <td>2093.810059</td>\n",
       "      <td>2080.409912</td>\n",
       "      <td>2080.409912</td>\n",
       "      <td>2080.409912</td>\n",
       "      <td>4245030000</td>\n",
       "    </tr>\n",
       "    <tr>\n",
       "      <th>6</th>\n",
       "      <td>2015-11-27</td>\n",
       "      <td>2088.820068</td>\n",
       "      <td>2093.290039</td>\n",
       "      <td>2084.129883</td>\n",
       "      <td>2090.110107</td>\n",
       "      <td>2090.110107</td>\n",
       "      <td>1466840000</td>\n",
       "    </tr>\n",
       "    <tr>\n",
       "      <th>7</th>\n",
       "      <td>2015-11-25</td>\n",
       "      <td>2089.300049</td>\n",
       "      <td>2093.000000</td>\n",
       "      <td>2086.300049</td>\n",
       "      <td>2088.870117</td>\n",
       "      <td>2088.870117</td>\n",
       "      <td>2852940000</td>\n",
       "    </tr>\n",
       "    <tr>\n",
       "      <th>8</th>\n",
       "      <td>2015-11-24</td>\n",
       "      <td>2084.419922</td>\n",
       "      <td>2094.120117</td>\n",
       "      <td>2070.290039</td>\n",
       "      <td>2089.139893</td>\n",
       "      <td>2089.139893</td>\n",
       "      <td>3884930000</td>\n",
       "    </tr>\n",
       "    <tr>\n",
       "      <th>9</th>\n",
       "      <td>2015-11-23</td>\n",
       "      <td>2089.409912</td>\n",
       "      <td>2095.610107</td>\n",
       "      <td>2081.389893</td>\n",
       "      <td>2086.590088</td>\n",
       "      <td>2086.590088</td>\n",
       "      <td>3587980000</td>\n",
       "    </tr>\n",
       "  </tbody>\n",
       "</table>\n",
       "</div>"
      ],
      "text/plain": [
       "        Date         Open         High          Low        Close    Adj Close  \\\n",
       "0 2015-12-07  2090.419922  2090.419922  2066.780029  2077.070068  2077.070068   \n",
       "1 2015-12-04  2051.239990  2093.840088  2051.239990  2091.689941  2091.689941   \n",
       "2 2015-12-03  2080.709961  2085.000000  2042.349976  2049.620117  2049.620117   \n",
       "3 2015-12-02  2101.709961  2104.270020  2077.110107  2079.510010  2079.510010   \n",
       "4 2015-12-01  2082.929932  2103.370117  2082.929932  2102.629883  2102.629883   \n",
       "5 2015-11-30  2090.949951  2093.810059  2080.409912  2080.409912  2080.409912   \n",
       "6 2015-11-27  2088.820068  2093.290039  2084.129883  2090.110107  2090.110107   \n",
       "7 2015-11-25  2089.300049  2093.000000  2086.300049  2088.870117  2088.870117   \n",
       "8 2015-11-24  2084.419922  2094.120117  2070.290039  2089.139893  2089.139893   \n",
       "9 2015-11-23  2089.409912  2095.610107  2081.389893  2086.590088  2086.590088   \n",
       "\n",
       "       Volume  \n",
       "0  4043820000  \n",
       "1  4214910000  \n",
       "2  4306490000  \n",
       "3  3950640000  \n",
       "4  3712120000  \n",
       "5  4245030000  \n",
       "6  1466840000  \n",
       "7  2852940000  \n",
       "8  3884930000  \n",
       "9  3587980000  "
      ]
     },
     "execution_count": 2,
     "metadata": {},
     "output_type": "execute_result"
    }
   ],
   "source": [
    "SPY_data = pd.read_csv(\"C:/Users/sana.rasheed/Downloads/SPY_2015.csv\")\n",
    " \n",
    "# Change the Date column from object to datetime object \n",
    "SPY_data[\"Date\"] = pd.to_datetime(SPY_data[\"Date\"])\n",
    " \n",
    "# Preview the data\n",
    "SPY_data.head(10)"
   ]
  },
  {
   "cell_type": "markdown",
   "metadata": {},
   "source": [
    "## Step 3: Data Cleansing and Transformation"
   ]
  },
  {
   "cell_type": "markdown",
   "metadata": {},
   "source": [
    "#### Indexing and Sorting"
   ]
  },
  {
   "cell_type": "code",
   "execution_count": 3,
   "metadata": {
    "scrolled": true
   },
   "outputs": [
    {
     "data": {
      "text/html": [
       "<div>\n",
       "<style scoped>\n",
       "    .dataframe tbody tr th:only-of-type {\n",
       "        vertical-align: middle;\n",
       "    }\n",
       "\n",
       "    .dataframe tbody tr th {\n",
       "        vertical-align: top;\n",
       "    }\n",
       "\n",
       "    .dataframe thead th {\n",
       "        text-align: right;\n",
       "    }\n",
       "</style>\n",
       "<table border=\"1\" class=\"dataframe\">\n",
       "  <thead>\n",
       "    <tr style=\"text-align: right;\">\n",
       "      <th></th>\n",
       "      <th>Open</th>\n",
       "      <th>High</th>\n",
       "      <th>Low</th>\n",
       "      <th>Close</th>\n",
       "      <th>Adj Close</th>\n",
       "      <th>Volume</th>\n",
       "    </tr>\n",
       "    <tr>\n",
       "      <th>Date</th>\n",
       "      <th></th>\n",
       "      <th></th>\n",
       "      <th></th>\n",
       "      <th></th>\n",
       "      <th></th>\n",
       "      <th></th>\n",
       "    </tr>\n",
       "  </thead>\n",
       "  <tbody>\n",
       "    <tr>\n",
       "      <th>2010-01-04</th>\n",
       "      <td>1116.560059</td>\n",
       "      <td>1133.869995</td>\n",
       "      <td>1116.560059</td>\n",
       "      <td>1132.989990</td>\n",
       "      <td>1132.989990</td>\n",
       "      <td>3991400000</td>\n",
       "    </tr>\n",
       "    <tr>\n",
       "      <th>2010-01-05</th>\n",
       "      <td>1132.660034</td>\n",
       "      <td>1136.630005</td>\n",
       "      <td>1129.660034</td>\n",
       "      <td>1136.520020</td>\n",
       "      <td>1136.520020</td>\n",
       "      <td>2491020000</td>\n",
       "    </tr>\n",
       "    <tr>\n",
       "      <th>2010-01-06</th>\n",
       "      <td>1135.709961</td>\n",
       "      <td>1139.189941</td>\n",
       "      <td>1133.949951</td>\n",
       "      <td>1137.140015</td>\n",
       "      <td>1137.140015</td>\n",
       "      <td>4972660000</td>\n",
       "    </tr>\n",
       "    <tr>\n",
       "      <th>2010-01-07</th>\n",
       "      <td>1136.270020</td>\n",
       "      <td>1142.459961</td>\n",
       "      <td>1131.319946</td>\n",
       "      <td>1141.689941</td>\n",
       "      <td>1141.689941</td>\n",
       "      <td>5270680000</td>\n",
       "    </tr>\n",
       "    <tr>\n",
       "      <th>2010-01-08</th>\n",
       "      <td>1140.520020</td>\n",
       "      <td>1145.390015</td>\n",
       "      <td>1136.219971</td>\n",
       "      <td>1144.979980</td>\n",
       "      <td>1144.979980</td>\n",
       "      <td>4389590000</td>\n",
       "    </tr>\n",
       "    <tr>\n",
       "      <th>...</th>\n",
       "      <td>...</td>\n",
       "      <td>...</td>\n",
       "      <td>...</td>\n",
       "      <td>...</td>\n",
       "      <td>...</td>\n",
       "      <td>...</td>\n",
       "    </tr>\n",
       "    <tr>\n",
       "      <th>2015-12-01</th>\n",
       "      <td>2082.929932</td>\n",
       "      <td>2103.370117</td>\n",
       "      <td>2082.929932</td>\n",
       "      <td>2102.629883</td>\n",
       "      <td>2102.629883</td>\n",
       "      <td>3712120000</td>\n",
       "    </tr>\n",
       "    <tr>\n",
       "      <th>2015-12-02</th>\n",
       "      <td>2101.709961</td>\n",
       "      <td>2104.270020</td>\n",
       "      <td>2077.110107</td>\n",
       "      <td>2079.510010</td>\n",
       "      <td>2079.510010</td>\n",
       "      <td>3950640000</td>\n",
       "    </tr>\n",
       "    <tr>\n",
       "      <th>2015-12-03</th>\n",
       "      <td>2080.709961</td>\n",
       "      <td>2085.000000</td>\n",
       "      <td>2042.349976</td>\n",
       "      <td>2049.620117</td>\n",
       "      <td>2049.620117</td>\n",
       "      <td>4306490000</td>\n",
       "    </tr>\n",
       "    <tr>\n",
       "      <th>2015-12-04</th>\n",
       "      <td>2051.239990</td>\n",
       "      <td>2093.840088</td>\n",
       "      <td>2051.239990</td>\n",
       "      <td>2091.689941</td>\n",
       "      <td>2091.689941</td>\n",
       "      <td>4214910000</td>\n",
       "    </tr>\n",
       "    <tr>\n",
       "      <th>2015-12-07</th>\n",
       "      <td>2090.419922</td>\n",
       "      <td>2090.419922</td>\n",
       "      <td>2066.780029</td>\n",
       "      <td>2077.070068</td>\n",
       "      <td>2077.070068</td>\n",
       "      <td>4043820000</td>\n",
       "    </tr>\n",
       "  </tbody>\n",
       "</table>\n",
       "<p>1493 rows × 6 columns</p>\n",
       "</div>"
      ],
      "text/plain": [
       "                   Open         High          Low        Close    Adj Close  \\\n",
       "Date                                                                          \n",
       "2010-01-04  1116.560059  1133.869995  1116.560059  1132.989990  1132.989990   \n",
       "2010-01-05  1132.660034  1136.630005  1129.660034  1136.520020  1136.520020   \n",
       "2010-01-06  1135.709961  1139.189941  1133.949951  1137.140015  1137.140015   \n",
       "2010-01-07  1136.270020  1142.459961  1131.319946  1141.689941  1141.689941   \n",
       "2010-01-08  1140.520020  1145.390015  1136.219971  1144.979980  1144.979980   \n",
       "...                 ...          ...          ...          ...          ...   \n",
       "2015-12-01  2082.929932  2103.370117  2082.929932  2102.629883  2102.629883   \n",
       "2015-12-02  2101.709961  2104.270020  2077.110107  2079.510010  2079.510010   \n",
       "2015-12-03  2080.709961  2085.000000  2042.349976  2049.620117  2049.620117   \n",
       "2015-12-04  2051.239990  2093.840088  2051.239990  2091.689941  2091.689941   \n",
       "2015-12-07  2090.419922  2090.419922  2066.780029  2077.070068  2077.070068   \n",
       "\n",
       "                Volume  \n",
       "Date                    \n",
       "2010-01-04  3991400000  \n",
       "2010-01-05  2491020000  \n",
       "2010-01-06  4972660000  \n",
       "2010-01-07  5270680000  \n",
       "2010-01-08  4389590000  \n",
       "...                ...  \n",
       "2015-12-01  3712120000  \n",
       "2015-12-02  3950640000  \n",
       "2015-12-03  4306490000  \n",
       "2015-12-04  4214910000  \n",
       "2015-12-07  4043820000  \n",
       "\n",
       "[1493 rows x 6 columns]"
      ]
     },
     "execution_count": 3,
     "metadata": {},
     "output_type": "execute_result"
    }
   ],
   "source": [
    "# Set Date as index\n",
    "SPY_data.set_index('Date',inplace=True)\n",
    " \n",
    "# Reverse the order of the dataframe in order to have oldest values at top\n",
    "SPY_data.sort_values('Date',ascending=True)"
   ]
  },
  {
   "cell_type": "markdown",
   "metadata": {},
   "source": [
    "#### Check Null Values"
   ]
  },
  {
   "cell_type": "code",
   "execution_count": 4,
   "metadata": {},
   "outputs": [
    {
     "data": {
      "text/plain": [
       "Open         0\n",
       "High         0\n",
       "Low          0\n",
       "Close        0\n",
       "Adj Close    0\n",
       "Volume       0\n",
       "dtype: int64"
      ]
     },
     "execution_count": 4,
     "metadata": {},
     "output_type": "execute_result"
    }
   ],
   "source": [
    "# Take the name of the columns of the SPY_data to see if null values exists\n",
    "variables = SPY_data.columns \n",
    "SPY_data.isnull().sum().loc[variables]"
   ]
  },
  {
   "cell_type": "markdown",
   "metadata": {},
   "source": [
    "## Step 4: Exploratory Data Analysis"
   ]
  },
  {
   "cell_type": "code",
   "execution_count": 5,
   "metadata": {},
   "outputs": [],
   "source": [
    "jet= plt.get_cmap('jet')\n",
    "colors = iter(jet(np.linspace(0,1,10)))\n",
    " \n",
    "def correlation(df,variables, n_rows, n_cols):\n",
    "    fig = plt.figure(figsize=(8,6))\n",
    "    #fig = plt.figure(figsize=(14,9))\n",
    "    for i, var in enumerate(variables):\n",
    "        ax = fig.add_subplot(n_rows,n_cols,i+1)\n",
    "        asset = df.loc[:,var]\n",
    "        ax.scatter(df[\"Adj Close\"], asset, c = next(colors))\n",
    "        ax.set_xlabel(\"Adj Close\")\n",
    "        ax.set_ylabel(\"{}\".format(var))\n",
    "        ax.set_title(var +\" vs price\")\n",
    "    fig.tight_layout() \n",
    "    plt.show()"
   ]
  },
  {
   "cell_type": "markdown",
   "metadata": {},
   "source": [
    "### Correlation\n",
    "#### Is there any correlation between Volume and Adj Close price?"
   ]
  },
  {
   "cell_type": "code",
   "execution_count": 6,
   "metadata": {},
   "outputs": [
    {
     "name": "stderr",
     "output_type": "stream",
     "text": [
      "'c' argument looks like a single numeric RGB or RGBA sequence, which should be avoided as value-mapping will have precedence in case its length matches with 'x' & 'y'.  Please use a 2-D array with a single row if you really want to specify the same RGB or RGBA value for all points.\n"
     ]
    },
    {
     "data": {
      "image/png": "[encoded data removed]",
      "text/plain": [
       "<Figure size 576x432 with 1 Axes>"
      ]
     },
     "metadata": {
      "needs_background": "light"
     },
     "output_type": "display_data"
    }
   ],
   "source": [
    "# Is there any correlation between Volume and Adj Close price?\n",
    "variables =SPY_data.columns[-1:] # read last column name\n",
    "correlation(SPY_data,variables,1,1)"
   ]
  },
  {
   "cell_type": "markdown",
   "metadata": {},
   "source": [
    "#### Is there any correlation between Adj Close price vs. Open, High, Low, Close  ?"
   ]
  },
  {
   "cell_type": "code",
   "execution_count": 7,
   "metadata": {},
   "outputs": [
    {
     "name": "stderr",
     "output_type": "stream",
     "text": [
      "'c' argument looks like a single numeric RGB or RGBA sequence, which should be avoided as value-mapping will have precedence in case its length matches with 'x' & 'y'.  Please use a 2-D array with a single row if you really want to specify the same RGB or RGBA value for all points.\n",
      "'c' argument looks like a single numeric RGB or RGBA sequence, which should be avoided as value-mapping will have precedence in case its length matches with 'x' & 'y'.  Please use a 2-D array with a single row if you really want to specify the same RGB or RGBA value for all points.\n",
      "'c' argument looks like a single numeric RGB or RGBA sequence, which should be avoided as value-mapping will have precedence in case its length matches with 'x' & 'y'.  Please use a 2-D array with a single row if you really want to specify the same RGB or RGBA value for all points.\n",
      "'c' argument looks like a single numeric RGB or RGBA sequence, which should be avoided as value-mapping will have precedence in case its length matches with 'x' & 'y'.  Please use a 2-D array with a single row if you really want to specify the same RGB or RGBA value for all points.\n",
      "'c' argument looks like a single numeric RGB or RGBA sequence, which should be avoided as value-mapping will have precedence in case its length matches with 'x' & 'y'.  Please use a 2-D array with a single row if you really want to specify the same RGB or RGBA value for all points.\n",
      "'c' argument looks like a single numeric RGB or RGBA sequence, which should be avoided as value-mapping will have precedence in case its length matches with 'x' & 'y'.  Please use a 2-D array with a single row if you really want to specify the same RGB or RGBA value for all points.\n"
     ]
    },
    {
     "data": {
      "image/png": "[encoded data removed]",
      "text/plain": [
       "<Figure size 576x432 with 6 Axes>"
      ]
     },
     "metadata": {
      "needs_background": "light"
     },
     "output_type": "display_data"
    }
   ],
   "source": [
    "# Is there any correlation between Adj Close price vs. Open, High, Low, Close?\n",
    "variables =SPY_data.columns#[0:6]   \n",
    "correlation(SPY_data,variables,3,3)"
   ]
  },
  {
   "cell_type": "code",
   "execution_count": 8,
   "metadata": {},
   "outputs": [
    {
     "data": {
      "text/plain": [
       "Open         0.999187\n",
       "High         0.999637\n",
       "Low          0.999702\n",
       "Close        1.000000\n",
       "Adj Close    1.000000\n",
       "Volume      -0.408814\n",
       "Name: Adj Close, dtype: float64"
      ]
     },
     "execution_count": 8,
     "metadata": {},
     "output_type": "execute_result"
    }
   ],
   "source": [
    "SPY_data.corr()['Adj Close'].loc[variables]"
   ]
  },
  {
   "cell_type": "markdown",
   "metadata": {},
   "source": [
    "## Step 5: Featuer Engineering"
   ]
  },
  {
   "cell_type": "code",
   "execution_count": 9,
   "metadata": {},
   "outputs": [],
   "source": [
    "SPY_data['High-Low_pct'] = (SPY_data['High'] - SPY_data['Low']).pct_change()\n",
    "SPY_data['ewm_5'] = SPY_data[\"Close\"].ewm(span=5).mean().shift(periods=1)\n",
    "SPY_data['price_std_5'] = SPY_data[\"Close\"].rolling(center=False,window= 30).std().shift(periods=1)\n",
    " \n",
    "SPY_data['volume Change'] = SPY_data['Volume'].pct_change()\n",
    "SPY_data['volume_avg_5'] = SPY_data[\"Volume\"].rolling(center=False,window=5).mean().shift(periods=1)\n",
    "SPY_data['volume Close'] = SPY_data[\"Volume\"].rolling(center=False,window=5).std().shift(periods=1)"
   ]
  },
  {
   "cell_type": "markdown",
   "metadata": {},
   "source": [
    "#### Correlation with New features"
   ]
  },
  {
   "cell_type": "code",
   "execution_count": 10,
   "metadata": {},
   "outputs": [
    {
     "name": "stderr",
     "output_type": "stream",
     "text": [
      "'c' argument looks like a single numeric RGB or RGBA sequence, which should be avoided as value-mapping will have precedence in case its length matches with 'x' & 'y'.  Please use a 2-D array with a single row if you really want to specify the same RGB or RGBA value for all points.\n",
      "'c' argument looks like a single numeric RGB or RGBA sequence, which should be avoided as value-mapping will have precedence in case its length matches with 'x' & 'y'.  Please use a 2-D array with a single row if you really want to specify the same RGB or RGBA value for all points.\n",
      "'c' argument looks like a single numeric RGB or RGBA sequence, which should be avoided as value-mapping will have precedence in case its length matches with 'x' & 'y'.  Please use a 2-D array with a single row if you really want to specify the same RGB or RGBA value for all points.\n",
      "'c' argument looks like a single numeric RGB or RGBA sequence, which should be avoided as value-mapping will have precedence in case its length matches with 'x' & 'y'.  Please use a 2-D array with a single row if you really want to specify the same RGB or RGBA value for all points.\n",
      "'c' argument looks like a single numeric RGB or RGBA sequence, which should be avoided as value-mapping will have precedence in case its length matches with 'x' & 'y'.  Please use a 2-D array with a single row if you really want to specify the same RGB or RGBA value for all points.\n",
      "'c' argument looks like a single numeric RGB or RGBA sequence, which should be avoided as value-mapping will have precedence in case its length matches with 'x' & 'y'.  Please use a 2-D array with a single row if you really want to specify the same RGB or RGBA value for all points.\n"
     ]
    },
    {
     "data": {
      "image/png": "[encoded data removed]",
      "text/plain": [
       "<Figure size 576x432 with 6 Axes>"
      ]
     },
     "metadata": {
      "needs_background": "light"
     },
     "output_type": "display_data"
    }
   ],
   "source": [
    "jet= plt.get_cmap('jet')\n",
    "colors = iter(jet(np.linspace(0,1,10)))\n",
    "\n",
    "# Take the name of the last 6 columns of the SPY_data which are the model features\n",
    "variables = SPY_data.columns[-6:]  \n",
    " \n",
    "correlation(SPY_data,variables,3,3)"
   ]
  },
  {
   "cell_type": "code",
   "execution_count": 11,
   "metadata": {},
   "outputs": [
    {
     "data": {
      "text/plain": [
       "High-Low_pct    -0.010328\n",
       "ewm_5            0.998513\n",
       "price_std_5      0.100524\n",
       "volume Change   -0.005446\n",
       "volume_avg_5    -0.485734\n",
       "volume Close    -0.241898\n",
       "Name: Adj Close, dtype: float64"
      ]
     },
     "execution_count": 11,
     "metadata": {},
     "output_type": "execute_result"
    }
   ],
   "source": [
    "SPY_data.corr()['Adj Close'].loc[variables]"
   ]
  },
  {
   "cell_type": "markdown",
   "metadata": {},
   "source": [
    "## Step 6: Build Predictive Model"
   ]
  },
  {
   "cell_type": "markdown",
   "metadata": {},
   "source": [
    "#### Check Null values"
   ]
  },
  {
   "cell_type": "code",
   "execution_count": 12,
   "metadata": {},
   "outputs": [
    {
     "data": {
      "text/html": [
       "<div>\n",
       "<style scoped>\n",
       "    .dataframe tbody tr th:only-of-type {\n",
       "        vertical-align: middle;\n",
       "    }\n",
       "\n",
       "    .dataframe tbody tr th {\n",
       "        vertical-align: top;\n",
       "    }\n",
       "\n",
       "    .dataframe thead th {\n",
       "        text-align: right;\n",
       "    }\n",
       "</style>\n",
       "<table border=\"1\" class=\"dataframe\">\n",
       "  <thead>\n",
       "    <tr style=\"text-align: right;\">\n",
       "      <th></th>\n",
       "      <th>Open</th>\n",
       "      <th>High</th>\n",
       "      <th>Low</th>\n",
       "      <th>Close</th>\n",
       "      <th>Adj Close</th>\n",
       "      <th>Volume</th>\n",
       "      <th>High-Low_pct</th>\n",
       "      <th>ewm_5</th>\n",
       "      <th>price_std_5</th>\n",
       "      <th>volume Change</th>\n",
       "      <th>volume_avg_5</th>\n",
       "      <th>volume Close</th>\n",
       "    </tr>\n",
       "    <tr>\n",
       "      <th>Date</th>\n",
       "      <th></th>\n",
       "      <th></th>\n",
       "      <th></th>\n",
       "      <th></th>\n",
       "      <th></th>\n",
       "      <th></th>\n",
       "      <th></th>\n",
       "      <th></th>\n",
       "      <th></th>\n",
       "      <th></th>\n",
       "      <th></th>\n",
       "      <th></th>\n",
       "    </tr>\n",
       "  </thead>\n",
       "  <tbody>\n",
       "    <tr>\n",
       "      <th>2015-12-07</th>\n",
       "      <td>2090.419922</td>\n",
       "      <td>2090.419922</td>\n",
       "      <td>2066.780029</td>\n",
       "      <td>2077.070068</td>\n",
       "      <td>2077.070068</td>\n",
       "      <td>4043820000</td>\n",
       "      <td>NaN</td>\n",
       "      <td>NaN</td>\n",
       "      <td>NaN</td>\n",
       "      <td>NaN</td>\n",
       "      <td>NaN</td>\n",
       "      <td>NaN</td>\n",
       "    </tr>\n",
       "    <tr>\n",
       "      <th>2015-12-04</th>\n",
       "      <td>2051.239990</td>\n",
       "      <td>2093.840088</td>\n",
       "      <td>2051.239990</td>\n",
       "      <td>2091.689941</td>\n",
       "      <td>2091.689941</td>\n",
       "      <td>4214910000</td>\n",
       "      <td>0.802043</td>\n",
       "      <td>2077.070068</td>\n",
       "      <td>NaN</td>\n",
       "      <td>0.042309</td>\n",
       "      <td>NaN</td>\n",
       "      <td>NaN</td>\n",
       "    </tr>\n",
       "    <tr>\n",
       "      <th>2015-12-03</th>\n",
       "      <td>2080.709961</td>\n",
       "      <td>2085.000000</td>\n",
       "      <td>2042.349976</td>\n",
       "      <td>2049.620117</td>\n",
       "      <td>2049.620117</td>\n",
       "      <td>4306490000</td>\n",
       "      <td>0.001172</td>\n",
       "      <td>2085.841992</td>\n",
       "      <td>NaN</td>\n",
       "      <td>0.021728</td>\n",
       "      <td>NaN</td>\n",
       "      <td>NaN</td>\n",
       "    </tr>\n",
       "    <tr>\n",
       "      <th>2015-12-02</th>\n",
       "      <td>2101.709961</td>\n",
       "      <td>2104.270020</td>\n",
       "      <td>2077.110107</td>\n",
       "      <td>2079.510010</td>\n",
       "      <td>2079.510010</td>\n",
       "      <td>3950640000</td>\n",
       "      <td>-0.363191</td>\n",
       "      <td>2068.684262</td>\n",
       "      <td>NaN</td>\n",
       "      <td>-0.082631</td>\n",
       "      <td>NaN</td>\n",
       "      <td>NaN</td>\n",
       "    </tr>\n",
       "    <tr>\n",
       "      <th>2015-12-01</th>\n",
       "      <td>2082.929932</td>\n",
       "      <td>2103.370117</td>\n",
       "      <td>2082.929932</td>\n",
       "      <td>2102.629883</td>\n",
       "      <td>2102.629883</td>\n",
       "      <td>3712120000</td>\n",
       "      <td>-0.247413</td>\n",
       "      <td>2073.181111</td>\n",
       "      <td>NaN</td>\n",
       "      <td>-0.060375</td>\n",
       "      <td>NaN</td>\n",
       "      <td>NaN</td>\n",
       "    </tr>\n",
       "  </tbody>\n",
       "</table>\n",
       "</div>"
      ],
      "text/plain": [
       "                   Open         High          Low        Close    Adj Close  \\\n",
       "Date                                                                          \n",
       "2015-12-07  2090.419922  2090.419922  2066.780029  2077.070068  2077.070068   \n",
       "2015-12-04  2051.239990  2093.840088  2051.239990  2091.689941  2091.689941   \n",
       "2015-12-03  2080.709961  2085.000000  2042.349976  2049.620117  2049.620117   \n",
       "2015-12-02  2101.709961  2104.270020  2077.110107  2079.510010  2079.510010   \n",
       "2015-12-01  2082.929932  2103.370117  2082.929932  2102.629883  2102.629883   \n",
       "\n",
       "                Volume  High-Low_pct        ewm_5  price_std_5  volume Change  \\\n",
       "Date                                                                            \n",
       "2015-12-07  4043820000           NaN          NaN          NaN            NaN   \n",
       "2015-12-04  4214910000      0.802043  2077.070068          NaN       0.042309   \n",
       "2015-12-03  4306490000      0.001172  2085.841992          NaN       0.021728   \n",
       "2015-12-02  3950640000     -0.363191  2068.684262          NaN      -0.082631   \n",
       "2015-12-01  3712120000     -0.247413  2073.181111          NaN      -0.060375   \n",
       "\n",
       "            volume_avg_5  volume Close  \n",
       "Date                                    \n",
       "2015-12-07           NaN           NaN  \n",
       "2015-12-04           NaN           NaN  \n",
       "2015-12-03           NaN           NaN  \n",
       "2015-12-02           NaN           NaN  \n",
       "2015-12-01           NaN           NaN  "
      ]
     },
     "execution_count": 12,
     "metadata": {},
     "output_type": "execute_result"
    }
   ],
   "source": [
    "SPY_data.head(5)"
   ]
  },
  {
   "cell_type": "code",
   "execution_count": 13,
   "metadata": {},
   "outputs": [
    {
     "data": {
      "text/plain": [
       "High-Low_pct      1\n",
       "ewm_5             1\n",
       "price_std_5      30\n",
       "volume Change     1\n",
       "volume_avg_5      5\n",
       "volume Close      5\n",
       "dtype: int64"
      ]
     },
     "execution_count": 13,
     "metadata": {},
     "output_type": "execute_result"
    }
   ],
   "source": [
    "SPY_data.isnull().sum().loc[variables]"
   ]
  },
  {
   "cell_type": "markdown",
   "metadata": {},
   "source": [
    "#### Drop/Remove NA records"
   ]
  },
  {
   "cell_type": "code",
   "execution_count": 14,
   "metadata": {},
   "outputs": [],
   "source": [
    "# To train a model, it is necessary to drop missing values.\n",
    "SPY_data = SPY_data.dropna(axis=0)"
   ]
  },
  {
   "cell_type": "markdown",
   "metadata": {},
   "source": [
    "#### Train & Test Dataset Distribution"
   ]
  },
  {
   "cell_type": "code",
   "execution_count": 15,
   "metadata": {},
   "outputs": [],
   "source": [
    "# Generate the train and test sets\n",
    "train = SPY_data[SPY_data.index < datetime(year=2015, month=1, day=1)]\n",
    "\n",
    "test = SPY_data[SPY_data.index >= datetime(year=2015, month=1, day=1)]\n",
    "dates = test.index"
   ]
  },
  {
   "cell_type": "markdown",
   "metadata": {},
   "source": [
    "#### Building Regression Model"
   ]
  },
  {
   "cell_type": "code",
   "execution_count": 16,
   "metadata": {},
   "outputs": [
    {
     "data": {
      "text/plain": [
       "LinearRegression(copy_X=True, fit_intercept=True, n_jobs=None, normalize=False)"
      ]
     },
     "execution_count": 16,
     "metadata": {},
     "output_type": "execute_result"
    }
   ],
   "source": [
    "lr = LinearRegression()\n",
    "X_train = train[[\"High-Low_pct\",\"ewm_5\",\"price_std_5\",\"volume_avg_5\",\"volume Change\",\"volume Close\"]]\n",
    " \n",
    "Y_train = train[\"Adj Close\"]\n",
    " \n",
    "lr.fit(X_train,Y_train)      "
   ]
  },
  {
   "cell_type": "markdown",
   "metadata": {},
   "source": [
    "#### Test Dataset"
   ]
  },
  {
   "cell_type": "code",
   "execution_count": 17,
   "metadata": {},
   "outputs": [],
   "source": [
    "# Create the test features dataset (X_test) which will be used to make the predictions.\n",
    "X_test = test[[\"High-Low_pct\",\"ewm_5\",\"price_std_5\",\"volume_avg_5\",\"volume Change\",\"volume Close\"]].values \n",
    "\n",
    "# The labels of the model\n",
    "Y_test = test[\"Adj Close\"].values # will be used for comparison"
   ]
  },
  {
   "cell_type": "markdown",
   "metadata": {},
   "source": [
    "#### Prediction"
   ]
  },
  {
   "cell_type": "code",
   "execution_count": 18,
   "metadata": {},
   "outputs": [],
   "source": [
    "close_predictions = lr.predict(X_test)   "
   ]
  },
  {
   "attachments": {
    "mae_eq.PNG": {
     "image/png": "[encoded data removed]"
    }
   },
   "cell_type": "markdown",
   "metadata": {},
   "source": [
    "### Model Evaluation\n",
    "\n",
    "#### Mean Absolute Error (MAE):\n",
    "In statistics, mean absolute error (MAE) is a measure of errors between paired observations expressing the same phenomenon. Examples of Y versus X include comparisons of predicted versus observed, subsequent time versus initial time, and one technique of measurement versus an alternative technique of measurement. MAE is calculated as:\n",
    "\n",
    "![mae_eq.PNG](attachment:mae_eq.PNG)\n",
    "\n",
    "The mean absolute error is a common measure of forecast error in time series analysis."
   ]
  },
  {
   "cell_type": "code",
   "execution_count": 19,
   "metadata": {},
   "outputs": [
    {
     "name": "stdout",
     "output_type": "stream",
     "text": [
      "18.09037765362944\n"
     ]
    }
   ],
   "source": [
    "mae = sum(abs(close_predictions - test[\"Adj Close\"].values)) / test.shape[0]\n",
    "print(mae)"
   ]
  },
  {
   "cell_type": "markdown",
   "metadata": {},
   "source": [
    "The MAE value is approx. 18. "
   ]
  },
  {
   "cell_type": "markdown",
   "metadata": {},
   "source": [
    "#### Error Graph for last 25 days\n",
    "Simple error (Actual - Predicted) computered and ploted for last 25 days. "
   ]
  },
  {
   "cell_type": "code",
   "execution_count": 20,
   "metadata": {},
   "outputs": [
    {
     "name": "stderr",
     "output_type": "stream",
     "text": [
      "C:\\Users\\sana.rasheed\\Anaconda3\\lib\\site-packages\\ipykernel_launcher.py:6: SettingWithCopyWarning: \n",
      "A value is trying to be set on a copy of a slice from a DataFrame.\n",
      "Try using .loc[row_indexer,col_indexer] = value instead\n",
      "\n",
      "See the caveats in the documentation: https://pandas.pydata.org/pandas-docs/stable/user_guide/indexing.html#returning-a-view-versus-a-copy\n",
      "  \n"
     ]
    },
    {
     "data": {
      "image/png": "[encoded data removed]",
      "text/plain": [
       "<Figure size 576x432 with 1 Axes>"
      ]
     },
     "metadata": {
      "needs_background": "light"
     },
     "output_type": "display_data"
    }
   ],
   "source": [
    "# Create a dataframe that output the Date, the Actual and the predicted values\n",
    "df = pd.DataFrame({'Date':dates,'Actual': Y_test, 'Predicted': close_predictions})\n",
    "df1 = df.tail(25)\n",
    " \n",
    "# set the date with string format for plotting\n",
    "df1['Date'] = df1['Date'].dt.strftime('%Y-%m-%d')\n",
    " \n",
    "df1.set_index('Date',inplace=True)\n",
    " \n",
    "error = df1['Actual'] - df1['Predicted']\n",
    " \n",
    "# Plot the error term between the actual and predicted values for the last 25 days\n",
    " \n",
    "error.plot(kind='bar',figsize=(8,6))\n",
    "plt.grid(which='major', linestyle='-', linewidth='0.5', color='green')\n",
    "plt.grid(which='minor', linestyle=':', linewidth='0.5', color='black')\n",
    "plt.xticks(rotation=45)\n",
    "plt.show()"
   ]
  },
  {
   "cell_type": "code",
   "execution_count": null,
   "metadata": {},
   "outputs": [],
   "source": []
  }
 ],
 "metadata": {
  "kernelspec": {
   "display_name": "Python 3",
   "language": "python",
   "name": "python3"
  },
  "language_info": {
   "codemirror_mode": {
    "name": "ipython",
    "version": 3
   },
   "file_extension": ".py",
   "mimetype": "text/x-python",
   "name": "python",
   "nbconvert_exporter": "python",
   "pygments_lexer": "ipython3",
   "version": "3.7.6"
  },
  "widgets": {
   "application/vnd.jupyter.widget-state+json": {
    "state": {},
    "version_major": 2,
    "version_minor": 0
   }
  }
 },
 "nbformat": 4,
 "nbformat_minor": 4
}
